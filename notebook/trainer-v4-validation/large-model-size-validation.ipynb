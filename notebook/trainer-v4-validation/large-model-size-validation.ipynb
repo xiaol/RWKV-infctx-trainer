{
 "cells": [
  {
   "cell_type": "markdown",
   "metadata": {},
   "source": [
    "# Testing the trainer code, against extra large model sizes\n",
    "\n",
    "Going beyond what is possible on a single GPU, 30B and beyond\n",
    "\n",
    "These requries 8x40GB GPUs with deepspeed 3"
   ]
  },
  {
   "cell_type": "code",
   "execution_count": 1,
   "metadata": {},
   "outputs": [],
   "source": [
    "# First lets setup the various directories required\n",
    "!mkdir -p ../../model/\n",
    "!mkdir -p ../../datapath/\n",
    "!mkdir -p ../../checkpoint/"
   ]
  },
  {
   "cell_type": "code",
   "execution_count": 5,
   "metadata": {},
   "outputs": [
    {
     "name": "stdout",
     "output_type": "stream",
     "text": [
      "GPU_DEVICES: auto\n",
      "DEEPSPEED_STRAT: deepspeed_stage_3\n",
      "NOTEBOOK_DIR: /home/picocreator/rwkv-proj/infctx-dev/notebook/trainer-validation\n",
      "TRAINER_DIR: /home/picocreator/rwkv-proj/infctx-dev/RWKV-v4neo\n",
      "PROJECT_DIR: /home/picocreator/rwkv-proj/infctx-dev\n"
     ]
    }
   ],
   "source": [
    "# Confgiure the deepspeed / gpu count to be tested\n",
    "DEEPSPEED_STRAT=\"deepspeed_stage_3\"\n",
    "GPU_DEVICES=\"auto\"\n",
    "\n",
    "print(\"GPU_DEVICES:\", GPU_DEVICES)\n",
    "print(\"DEEPSPEED_STRAT:\", DEEPSPEED_STRAT)\n",
    "\n",
    "# Computing the notebook, and various paths\n",
    "import os\n",
    "NOTEBOOK_DIR=os.path.dirname(os.path.abspath(\"__file__\"))\n",
    "PROJECT_DIR=os.path.abspath(os.path.join(NOTEBOOK_DIR, \"../../\"))\n",
    "TRAINER_DIR=os.path.abspath(os.path.join(PROJECT_DIR, \"./RWKV-v4neo/\"))\n",
    "\n",
    "print(\"NOTEBOOK_DIR:\", NOTEBOOK_DIR)\n",
    "print(\"TRAINER_DIR:\", TRAINER_DIR)\n",
    "print(\"PROJECT_DIR:\", PROJECT_DIR)"
   ]
  },
  {
   "cell_type": "code",
   "execution_count": 6,
   "metadata": {},
   "outputs": [
    {
     "name": "stdout",
     "output_type": "stream",
     "text": [
      "Map (num_proc=16): 100%|█████████| 10000/10000 [00:01<00:00, 5197.21 examples/s]\n",
      "Filter (num_proc=16): 100%|█████| 10000/10000 [00:00<00:00, 11547.48 examples/s]\n",
      "Map (num_proc=16): 100%|███████████| 8110/8110 [00:01<00:00, 5340.63 examples/s]\n",
      "Saving the dataset (1/1 shards): 100%|█| 5318/5318 [00:00<00:00, 127176.21 examp\n",
      "Saving the dataset (1/1 shards): 100%|█| 54/54 [00:00<00:00, 25572.14 examples/s\n"
     ]
    }
   ],
   "source": [
    "# Lets preload the requried dataset\n",
    "!cd \"{TRAINER_DIR}\" && \\\n",
    "    python3 preload_datapath.py \"{NOTEBOOK_DIR}/config/minimal-enwiki.yaml\""
   ]
  },
  {
   "cell_type": "markdown",
   "metadata": {},
   "source": [
    "## 30B? Size (L80-D5120)"
   ]
  },
  {
   "cell_type": "code",
   "execution_count": null,
   "metadata": {},
   "outputs": [],
   "source": [
    "!cd \"{TRAINER_DIR}\" && \\\n",
    "    python3 init_model.py \\\n",
    "        --n_layer 80 --n_embd 5120 \\\n",
    "        --vocab_size neox \\\n",
    "        ../model/L80-D5120-neox-init.pth"
   ]
  },
  {
   "cell_type": "code",
   "execution_count": null,
   "metadata": {},
   "outputs": [],
   "source": [
    "!cd \"{TRAINER_DIR}\" && \\\n",
    "    ls ../model/L80-D5120-neox-init.pth"
   ]
  },
  {
   "cell_type": "code",
   "execution_count": null,
   "metadata": {},
   "outputs": [],
   "source": [
    "!cd \"{TRAINER_DIR}\" && \\\n",
    "    python3 lightning_trainer.py fit \\\n",
    "        -c \"{NOTEBOOK_DIR}/config/minimal-enwiki.yaml\" \\\n",
    "        --model.load_model \"../model/L80-D5120-neox-init.pth\" \\\n",
    "        --trainer.strategy=\"{DEEPSPEED_STRAT}\" \\\n",
    "        --trainer.devices=\"{GPU_DEVICES}\""
   ]
  }
 ],
 "metadata": {
  "kernelspec": {
   "display_name": "rwkv-infctx-nightly",
   "language": "python",
   "name": "python3"
  },
  "language_info": {
   "codemirror_mode": {
    "name": "ipython",
    "version": 3
   },
   "file_extension": ".py",
   "mimetype": "text/x-python",
   "name": "python",
   "nbconvert_exporter": "python",
   "pygments_lexer": "ipython3",
   "version": "3.11.4"
  },
  "orig_nbformat": 4
 },
 "nbformat": 4,
 "nbformat_minor": 2
}
